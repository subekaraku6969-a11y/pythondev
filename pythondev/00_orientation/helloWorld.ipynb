{
 "cells": [
  {
   "cell_type": "code",
   "execution_count": 1,
   "id": "adc7fdee",
   "metadata": {},
   "outputs": [
    {
     "name": "stdout",
     "output_type": "stream",
     "text": [
      "Hello,World!\n"
     ]
    }
   ],
   "source": [
    "print(\"Hello,World!\")"
   ]
  },
  {
   "cell_type": "code",
   "execution_count": 1,
   "id": "36ae9bd1",
   "metadata": {},
   "outputs": [
    {
     "name": "stdout",
     "output_type": "stream",
     "text": [
      "こんにちは！世界！\n"
     ]
    }
   ],
   "source": [
    "print(\"こんにちは！世界！\")\n",
    "\n",
    "\n"
   ]
  }
 ],
 "metadata": {
  "kernelspec": {
   "display_name": ".venv",
   "language": "python",
   "name": "python3"
  },
  "language_info": {
   "codemirror_mode": {
    "name": "ipython",
    "version": 3
   },
   "file_extension": ".py",
   "mimetype": "text/x-python",
   "name": "python",
   "nbconvert_exporter": "python",
   "pygments_lexer": "ipython3",
   "version": "3.12.10"
  }
 },
 "nbformat": 4,
 "nbformat_minor": 5
}
