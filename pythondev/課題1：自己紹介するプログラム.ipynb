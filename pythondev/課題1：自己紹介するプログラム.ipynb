{
 "cells": [
  {
   "cell_type": "code",
   "execution_count": 1,
   "id": "719ad41f",
   "metadata": {},
   "outputs": [],
   "source": [
    "name = input(\"名前を入力してください: \")"
   ]
  },
  {
   "cell_type": "code",
   "execution_count": 2,
   "id": "a91adca2",
   "metadata": {},
   "outputs": [],
   "source": [
    "age = int(input(\"現在の年齢を入力してください: \"))"
   ]
  },
  {
   "cell_type": "code",
   "execution_count": 3,
   "id": "b1be68ff",
   "metadata": {},
   "outputs": [
    {
     "name": "stdout",
     "output_type": "stream",
     "text": [
      "私の名前は kentaro sutani です。来年で 39 歳になります。\n"
     ]
    }
   ],
   "source": [
    "print(f\"私の名前は {name} です。来年で {age + 1} 歳になります。\")"
   ]
  }
 ],
 "metadata": {
  "kernelspec": {
   "display_name": ".venv",
   "language": "python",
   "name": "python3"
  },
  "language_info": {
   "codemirror_mode": {
    "name": "ipython",
    "version": 3
   },
   "file_extension": ".py",
   "mimetype": "text/x-python",
   "name": "python",
   "nbconvert_exporter": "python",
   "pygments_lexer": "ipython3",
   "version": "3.12.10"
  }
 },
 "nbformat": 4,
 "nbformat_minor": 5
}
